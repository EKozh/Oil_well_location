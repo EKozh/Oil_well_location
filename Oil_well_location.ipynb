{
 "cells": [
  {
   "cell_type": "markdown",
   "metadata": {},
   "source": [
    "# Выбор локации для скважины"
   ]
  },
  {
   "cell_type": "markdown",
   "metadata": {},
   "source": [
    "Вам предоставлены пробы нефти в трёх регионах: в каждом 10 000 месторождений, где измерили качество нефти и объём её запасов. Постройте модель машинного обучения, которая поможет определить регион, где добыча принесёт наибольшую прибыль. Проанализируйте возможную прибыль и риски техникой *Bootstrap.* Нужно решить, где бурить новую скважину.\n",
    "\n",
    "Шаги для выбора локации:\n",
    "\n",
    "- В избранном регионе ищут месторождения, для каждого определяют значения признаков;\n",
    "- Строят модель и оценивают объём запасов;\n",
    "- Выбирают месторождения с самым высокими оценками значений. Количество месторождений зависит от бюджета компании и стоимости разработки одной скважины;\n",
    "- Прибыль равна суммарной прибыли отобранных месторождений."
   ]
  },
  {
   "cell_type": "markdown",
   "metadata": {},
   "source": [
    "## Загрузка и подготовка данных"
   ]
  },
  {
   "cell_type": "code",
   "execution_count": 1,
   "metadata": {},
   "outputs": [],
   "source": [
    "import pandas as pd\n",
    "import numpy as np\n",
    "import matplotlib.pyplot as plt\n",
    "\n",
    "from sklearn.model_selection import train_test_split\n",
    "from sklearn.linear_model import LinearRegression\n",
    "from sklearn.metrics import mean_squared_error"
   ]
  },
  {
   "cell_type": "code",
   "execution_count": 2,
   "metadata": {},
   "outputs": [],
   "source": [
    "df_1 = pd.read_csv('/datasets/geo_data_0.csv')\n",
    "df_2 = pd.read_csv('/datasets/geo_data_1.csv')\n",
    "df_3 = pd.read_csv('/datasets/geo_data_2.csv')"
   ]
  },
  {
   "cell_type": "code",
   "execution_count": 3,
   "metadata": {},
   "outputs": [],
   "source": [
    "# назовем таблицы для применения в функции\n",
    "df_1.name = 'Region_1'\n",
    "df_2.name = 'Region_2'\n",
    "df_3.name = 'Region_3'"
   ]
  },
  {
   "cell_type": "code",
   "execution_count": 4,
   "metadata": {},
   "outputs": [],
   "source": [
    "# передадим названия датафреймов для дальнейшего цикла\n",
    "data=[df_1, df_2, df_3]"
   ]
  },
  {
   "cell_type": "code",
   "execution_count": 5,
   "metadata": {},
   "outputs": [],
   "source": [
    "# функция для вывода общей информации\n",
    "def begin(data):\n",
    "    print('\\033[1m' + '\\n    Общая информация по' + '\\033[0m', '\\033[1m' + data.name+ '\\033[0m', '\\n')\n",
    "    print(data.sample(5)) # вывод 5 строк\n",
    "    print('\\033[1m' + '\\nОбщая информация\\n' + '\\033[0m')\n",
    "    data.info() # общая информация\n",
    "    print('\\033[1m' + '\\nОписательная статистика:'+ '\\033[0m')\n",
    "    print(data.describe()) # описат.статистика\n",
    "    print('\\033[1m' + '\\nРаспределение признаков:'+ '\\033[0m')\n",
    "    data.hist(figsize=(10,7)); # гистограммы\n",
    "    plt.show()\n",
    "    print('\\033[1m' + '\\nКорреляция:'+ '\\033[0m')\n",
    "    print(data.corr()) # коэффициент корреляции между признаками\n",
    "    print('\\033[1m' + '\\nКоличество пропущенных значений' + '\\033[0m', data.isna().sum().sum())\n",
    "    print('\\033[1m' + 'Количество дубликатов:' + '\\033[0m', data.duplicated().sum())\n",
    "    print()\n",
    "    print()"
   ]
  },
  {
   "cell_type": "code",
   "execution_count": 6,
   "metadata": {
    "scrolled": false
   },
   "outputs": [
    {
     "name": "stdout",
     "output_type": "stream",
     "text": [
      "\u001b[1m\n",
      "    Общая информация по\u001b[0m \u001b[1mRegion_1\u001b[0m \n",
      "\n",
      "          id        f0        f1        f2    product\n",
      "77602  qO1AJ  1.386824 -0.514537 -1.919531  30.654925\n",
      "89682  bSLGC  1.046562  0.266910  0.217766  55.681447\n",
      "64846  pRnCj -0.639884  0.780145  2.759800  16.295060\n",
      "87849  N7AeH  0.697312  0.793436 -0.891046  88.531940\n",
      "25382  Q0IWO  1.856547 -0.222572  2.638101  78.787385\n",
      "\u001b[1m\n",
      "Общая информация\n",
      "\u001b[0m\n",
      "<class 'pandas.core.frame.DataFrame'>\n",
      "RangeIndex: 100000 entries, 0 to 99999\n",
      "Data columns (total 5 columns):\n",
      " #   Column   Non-Null Count   Dtype  \n",
      "---  ------   --------------   -----  \n",
      " 0   id       100000 non-null  object \n",
      " 1   f0       100000 non-null  float64\n",
      " 2   f1       100000 non-null  float64\n",
      " 3   f2       100000 non-null  float64\n",
      " 4   product  100000 non-null  float64\n",
      "dtypes: float64(4), object(1)\n",
      "memory usage: 3.8+ MB\n",
      "\u001b[1m\n",
      "Описательная статистика:\u001b[0m\n",
      "                  f0             f1             f2        product\n",
      "count  100000.000000  100000.000000  100000.000000  100000.000000\n",
      "mean        0.500419       0.250143       2.502647      92.500000\n",
      "std         0.871832       0.504433       3.248248      44.288691\n",
      "min        -1.408605      -0.848218     -12.088328       0.000000\n",
      "25%        -0.072580      -0.200881       0.287748      56.497507\n",
      "50%         0.502360       0.250252       2.515969      91.849972\n",
      "75%         1.073581       0.700646       4.715088     128.564089\n",
      "max         2.362331       1.343769      16.003790     185.364347\n",
      "\u001b[1m\n",
      "Распределение признаков:\u001b[0m\n"
     ]
    },
    {
     "data": {
      "image/png": "[encoded data removed]",
      "text/plain": [
       "<Figure size 720x504 with 4 Axes>"
      ]
     },
     "metadata": {
      "needs_background": "light"
     },
     "output_type": "display_data"
    },
    {
     "name": "stdout",
     "output_type": "stream",
     "text": [
      "\u001b[1m\n",
      "Корреляция:\u001b[0m\n",
      "               f0        f1        f2   product\n",
      "f0       1.000000 -0.440723 -0.003153  0.143536\n",
      "f1      -0.440723  1.000000  0.001724 -0.192356\n",
      "f2      -0.003153  0.001724  1.000000  0.483663\n",
      "product  0.143536 -0.192356  0.483663  1.000000\n",
      "\u001b[1m\n",
      "Количество пропущенных значений\u001b[0m 0\n",
      "\u001b[1mКоличество дубликатов:\u001b[0m 0\n",
      "\n",
      "\n",
      "\u001b[1m\n",
      "    Общая информация по\u001b[0m \u001b[1mRegion_2\u001b[0m \n",
      "\n",
      "          id         f0        f1        f2     product\n",
      "95347  obA5S   8.909136  0.671548  0.997017   26.953261\n",
      "29129  j4RcV  14.335810 -5.759188  5.003746  134.766305\n",
      "43257  lrYui  -1.729035 -2.662447 -0.005004    3.179103\n",
      "38998  qrBUp  12.236527 -3.846813  3.997633  107.813044\n",
      "39776  1YFg8 -10.285997 -7.659120  1.995813   57.085625\n",
      "\u001b[1m\n",
      "Общая информация\n",
      "\u001b[0m\n",
      "<class 'pandas.core.frame.DataFrame'>\n",
      "RangeIndex: 100000 entries, 0 to 99999\n",
      "Data columns (total 5 columns):\n",
      " #   Column   Non-Null Count   Dtype  \n",
      "---  ------   --------------   -----  \n",
      " 0   id       100000 non-null  object \n",
      " 1   f0       100000 non-null  float64\n",
      " 2   f1       100000 non-null  float64\n",
      " 3   f2       100000 non-null  float64\n",
      " 4   product  100000 non-null  float64\n",
      "dtypes: float64(4), object(1)\n",
      "memory usage: 3.8+ MB\n",
      "\u001b[1m\n",
      "Описательная статистика:\u001b[0m\n",
      "                  f0             f1             f2        product\n",
      "count  100000.000000  100000.000000  100000.000000  100000.000000\n",
      "mean        1.141296      -4.796579       2.494541      68.825000\n",
      "std         8.965932       5.119872       1.703572      45.944423\n",
      "min       -31.609576     -26.358598      -0.018144       0.000000\n",
      "25%        -6.298551      -8.267985       1.000021      26.953261\n",
      "50%         1.153055      -4.813172       2.011479      57.085625\n",
      "75%         8.621015      -1.332816       3.999904     107.813044\n",
      "max        29.421755      18.734063       5.019721     137.945408\n",
      "\u001b[1m\n",
      "Распределение признаков:\u001b[0m\n"
     ]
    },
    {
     "data": {
      "image/png": "[encoded data removed]",
      "text/plain": [
       "<Figure size 720x504 with 4 Axes>"
      ]
     },
     "metadata": {
      "needs_background": "light"
     },
     "output_type": "display_data"
    },
    {
     "name": "stdout",
     "output_type": "stream",
     "text": [
      "\u001b[1m\n",
      "Корреляция:\u001b[0m\n",
      "               f0        f1        f2   product\n",
      "f0       1.000000  0.182287 -0.001777 -0.030491\n",
      "f1       0.182287  1.000000 -0.002595 -0.010155\n",
      "f2      -0.001777 -0.002595  1.000000  0.999397\n",
      "product -0.030491 -0.010155  0.999397  1.000000\n",
      "\u001b[1m\n",
      "Количество пропущенных значений\u001b[0m 0\n",
      "\u001b[1mКоличество дубликатов:\u001b[0m 0\n",
      "\n",
      "\n",
      "\u001b[1m\n",
      "    Общая информация по\u001b[0m \u001b[1mRegion_3\u001b[0m \n",
      "\n",
      "          id        f0        f1        f2     product\n",
      "87244  CPnA0  1.613252 -1.761422  5.306138   47.698404\n",
      "38794  HfDMj  0.243811 -3.999154 -5.564770  118.695985\n",
      "75160  PZnkP  1.666505  0.109507  7.100121   56.669398\n",
      "43448  3S0Ie -1.324979 -0.781110  2.603628   75.262811\n",
      "16776  vTDIW  1.692568  0.686276  4.311940  114.201388\n",
      "\u001b[1m\n",
      "Общая информация\n",
      "\u001b[0m\n",
      "<class 'pandas.core.frame.DataFrame'>\n",
      "RangeIndex: 100000 entries, 0 to 99999\n",
      "Data columns (total 5 columns):\n",
      " #   Column   Non-Null Count   Dtype  \n",
      "---  ------   --------------   -----  \n",
      " 0   id       100000 non-null  object \n",
      " 1   f0       100000 non-null  float64\n",
      " 2   f1       100000 non-null  float64\n",
      " 3   f2       100000 non-null  float64\n",
      " 4   product  100000 non-null  float64\n",
      "dtypes: float64(4), object(1)\n",
      "memory usage: 3.8+ MB\n",
      "\u001b[1m\n",
      "Описательная статистика:\u001b[0m\n",
      "                  f0             f1             f2        product\n",
      "count  100000.000000  100000.000000  100000.000000  100000.000000\n",
      "mean        0.002023      -0.002081       2.495128      95.000000\n",
      "std         1.732045       1.730417       3.473445      44.749921\n",
      "min        -8.760004      -7.084020     -11.970335       0.000000\n",
      "25%        -1.162288      -1.174820       0.130359      59.450441\n",
      "50%         0.009424      -0.009482       2.484236      94.925613\n",
      "75%         1.158535       1.163678       4.858794     130.595027\n",
      "max         7.238262       7.844801      16.739402     190.029838\n",
      "\u001b[1m\n",
      "Распределение признаков:\u001b[0m\n"
     ]
    },
    {
     "data": {
      "image/png": "[encoded data removed]",
      "text/plain": [
       "<Figure size 720x504 with 4 Axes>"
      ]
     },
     "metadata": {
      "needs_background": "light"
     },
     "output_type": "display_data"
    },
    {
     "name": "stdout",
     "output_type": "stream",
     "text": [
      "\u001b[1m\n",
      "Корреляция:\u001b[0m\n",
      "               f0        f1        f2   product\n",
      "f0       1.000000  0.000528 -0.000448 -0.001987\n",
      "f1       0.000528  1.000000  0.000779 -0.001012\n",
      "f2      -0.000448  0.000779  1.000000  0.445871\n",
      "product -0.001987 -0.001012  0.445871  1.000000\n",
      "\u001b[1m\n",
      "Количество пропущенных значений\u001b[0m 0\n",
      "\u001b[1mКоличество дубликатов:\u001b[0m 0\n",
      "\n",
      "\n"
     ]
    }
   ],
   "source": [
    "for df in data:\n",
    "    begin(df)"
   ]
  },
  {
   "cell_type": "markdown",
   "metadata": {},
   "source": [
    "Нам предоставлены три исходных файла с данными геологоразведки по трем регионам. В каждом датафрейме 100 тыс. строк 4 столбца:\n",
    "- id — уникальный идентификатор скважины;\n",
    "- f0, f1, f2 — три признака точек (неважно, что они означают, но сами признаки значимы);\n",
    "- product — объём запасов в скважине (тыс. баррелей).\n",
    "При анализе в датафреймах дубликатов и пропущенных значений не выявлено, типы столбцов корректны.\n",
    "\n",
    "По гистограммам видно, что целевой признак - product в Регионе_1 и Регионе_3 распределены нормально, в данных регионах медиана и среднее значение отличается незначительно в сравлении с Регионом_2. При этом гистограмма в Регионе_2 не имеет нормального распределения, в гистограмме присутствует два пика. Также в Регионе_2 очень высокая корреляция между целевым признаком и f2, которая практически равна 1.\n"
   ]
  },
  {
   "cell_type": "markdown",
   "metadata": {},
   "source": [
    "## Обучение и проверка модели"
   ]
  },
  {
   "cell_type": "markdown",
   "metadata": {},
   "source": [
    " С помощью функции: \n",
    " - Разобьем данные на обучающую и валидационную выборки в соотношении 75:25.\n",
    " - Обучим модель и сделаем предсказания на валидационной выборке.\n",
    " - Сохраним предсказания и правильные ответы на валидационной выборке.\n",
    "\n"
   ]
  },
  {
   "cell_type": "code",
   "execution_count": 7,
   "metadata": {},
   "outputs": [],
   "source": [
    "# функция предсказаний и правильных ответов валидационной выборки\n",
    "def get_predict_model(data):\n",
    "    target = data['product']\n",
    "    features = data.drop(['product','id'], axis=1)\n",
    "    features_train, features_valid, target_train, target_valid = train_test_split(features, target, test_size=.25, random_state=12345)\n",
    "    \n",
    "    model = LinearRegression()\n",
    "    model.fit(features_train,target_train)\n",
    "    predict = model.predict(features_valid)\n",
    "    return target_valid, pd.Series(predict)"
   ]
  },
  {
   "cell_type": "code",
   "execution_count": 8,
   "metadata": {},
   "outputs": [],
   "source": [
    "# сохраним предсказания и правильные ответы для валидационной выборки\n",
    "target_1, predict_1 = get_predict_model(df_1)\n",
    "target_2, predict_2 = get_predict_model(df_2)\n",
    "target_3, predict_3 = get_predict_model(df_3)"
   ]
  },
  {
   "cell_type": "code",
   "execution_count": 9,
   "metadata": {},
   "outputs": [],
   "source": [
    "# функция для вычисления метрик (не смогла понять как не дублировать функцию выше, чтобы потом вывести циклом три региона, \n",
    "# поэтому оставила так)\n",
    "def get_metrics(data):\n",
    "    target = data['product']\n",
    "    features = data.drop(['product','id'], axis=1)\n",
    "    features_train, features_valid, target_train, target_valid = train_test_split(features, target, test_size=.25, random_state=12345)\n",
    "    \n",
    "    model = LinearRegression()\n",
    "    model.fit(features_train,target_train)\n",
    "    predict = model.predict(features_valid)\n",
    "    mse = mean_squared_error(target_valid, predict)\n",
    "    print('\\033[1m' + data.name + '\\033[0m')\n",
    "    print('RMSE модели по ', data.name, '- ', round(mse**0.5, 4))\n",
    "    print('Средний запас фактического сырья по ' + data.name, '- ', round(target_valid.mean(), 4)) \n",
    "    print('Средний запас предсказанного сырья по ' + data.name, '- ', round(predict.mean(), 4))"
   ]
  },
  {
   "cell_type": "code",
   "execution_count": 10,
   "metadata": {},
   "outputs": [
    {
     "name": "stdout",
     "output_type": "stream",
     "text": [
      "\u001b[1mRegion_1\u001b[0m\n",
      "RMSE модели по  Region_1 -  37.5794\n",
      "Средний запас фактического сырья по Region_1 -  92.0786\n",
      "Средний запас предсказанного сырья по Region_1 -  92.5926\n",
      "\n",
      "\u001b[1mRegion_2\u001b[0m\n",
      "RMSE модели по  Region_2 -  0.8931\n",
      "Средний запас фактического сырья по Region_2 -  68.7231\n",
      "Средний запас предсказанного сырья по Region_2 -  68.7285\n",
      "\n",
      "\u001b[1mRegion_3\u001b[0m\n",
      "RMSE модели по  Region_3 -  40.0297\n",
      "Средний запас фактического сырья по Region_3 -  94.8842\n",
      "Средний запас предсказанного сырья по Region_3 -  94.965\n",
      "\n"
     ]
    }
   ],
   "source": [
    "for pred in data:\n",
    "    get_metrics(pred)\n",
    "    print()"
   ]
  },
  {
   "cell_type": "markdown",
   "metadata": {},
   "source": [
    "Модели обучены и проверены на качество предсказания метрикой RMSE, которая определяет величину среднеквадратичной ошибки в предсказании модели. Исходя из полученных данных, можно заметить, что величина RMSE во втором регионе сильно отличается от двух других и близка к 0, это могло быть связано с тем, что в этом регионе наблюдалась очень высокая корреляция f2 и product. Наибольшая среднеквадратичная ошибка наблюдается в Region_3."
   ]
  },
  {
   "cell_type": "markdown",
   "metadata": {},
   "source": [
    "## Подготовка к расчёту прибыли"
   ]
  },
  {
   "cell_type": "markdown",
   "metadata": {},
   "source": [
    "Подготовьтесь к расчёту прибыли:\n",
    " 3.1. Все ключевые значения для расчётов сохраните в отдельных переменных.\n",
    " 3.2. Рассчитайте достаточный объём сырья для безубыточной разработки новой скважины. Сравните полученный объём сырья со средним запасом в каждом регионе. \n",
    " 3.3. Напишите выводы по этапу подготовки расчёта прибыли.\n",
    "Напишите функцию для расчёта прибыли по выбранным скважинам и предсказаниям модели:\n",
    " 4.1. Выберите скважины с максимальными значениями предсказаний. \n",
    " 4.2. Просуммируйте целевое значение объёма сырья, соответствующее этим предсказаниям.\n",
    " 4.3. Рассчитайте прибыль для полученного объёма сырья."
   ]
  },
  {
   "cell_type": "code",
   "execution_count": 11,
   "metadata": {},
   "outputs": [],
   "source": [
    "# При разведке региона исследуют 500 точек, из которых с помощью машинного обучения выбирают 200 лучших для разработки.\n",
    "wells = 200"
   ]
  },
  {
   "cell_type": "code",
   "execution_count": 12,
   "metadata": {},
   "outputs": [],
   "source": [
    "# Бюджет на разработку скважин в регионе — 10 млрд рублей.\n",
    "investment = 10000000000"
   ]
  },
  {
   "cell_type": "code",
   "execution_count": 13,
   "metadata": {},
   "outputs": [],
   "source": [
    "# При нынешних ценах один баррель сырья приносит 450 рублей дохода. Доход с каждой единицы продукта составляет 450 тыс. рублей, поскольку объём указан в тысячах баррелей.\n",
    "profit_per_barr = 450000"
   ]
  },
  {
   "cell_type": "code",
   "execution_count": 14,
   "metadata": {},
   "outputs": [],
   "source": [
    "# Достаточный объем сырья для безубыточной разработки\n",
    "oil_volume = investment/(profit_per_barr*wells)"
   ]
  },
  {
   "cell_type": "code",
   "execution_count": 15,
   "metadata": {},
   "outputs": [
    {
     "name": "stdout",
     "output_type": "stream",
     "text": [
      "Достаточный объем сырья для безубыточной разработки новой скважины составляет 111.11 тыс. баррелей\n"
     ]
    }
   ],
   "source": [
    "print('Достаточный объем сырья для безубыточной разработки новой скважины составляет {:.2f} тыс. баррелей'.format(oil_volume))"
   ]
  },
  {
   "cell_type": "code",
   "execution_count": 16,
   "metadata": {},
   "outputs": [],
   "source": [
    "# Затраты на одну скважину\n",
    "cost_per_well = investment/wells"
   ]
  },
  {
   "cell_type": "code",
   "execution_count": 17,
   "metadata": {},
   "outputs": [
    {
     "name": "stdout",
     "output_type": "stream",
     "text": [
      "Затраты на одну скважину составляют 50000000.0 рублей\n"
     ]
    }
   ],
   "source": [
    "print('Затраты на одну скважину составляют {} рублей'.format(cost_per_well))"
   ]
  },
  {
   "cell_type": "markdown",
   "metadata": {},
   "source": [
    "Выберем 200 скважин с максимальным количеством сырья в каждом регионе с помощью функции:"
   ]
  },
  {
   "cell_type": "code",
   "execution_count": 18,
   "metadata": {},
   "outputs": [],
   "source": [
    "def top_profit(predict, target):\n",
    "    target = pd.Series(target).reset_index(drop=True) # приводим к типу Series и сбросим индексы\n",
    "    predict = pd.Series(predict).reset_index(drop=True) # приводим к типу Series и сбросим индексы\n",
    "    predict_sorted = predict.sort_values(ascending=False) # сортируем по убыванию предсказания\n",
    "    top_target = target[predict_sorted.index][:200] # выбираем 200 скважин с наибольшими предсказанными объемами, но считаем по фактическим объемам\n",
    "    profit = top_target.sum()\n",
    "    return round((((profit*profit_per_barr)-investment)/1000000000),5)"
   ]
  },
  {
   "cell_type": "code",
   "execution_count": 19,
   "metadata": {},
   "outputs": [
    {
     "name": "stdout",
     "output_type": "stream",
     "text": [
      "Прибыль в Region_1 по скважинам с максимальным количеством сырья составляет 3.32083 млрд.руб. \n",
      "Прибыль в Region_2 по скважинам с максимальным количеством сырья составляет 2.41509 млрд.руб. \n",
      "Прибыль в Region_3 по скважинам с максимальным количеством сырья составляет 2.71035 млрд.руб. \n"
     ]
    }
   ],
   "source": [
    "print('Прибыль в Region_1 по скважинам с максимальным количеством сырья составляет {} млрд.руб. '.format(top_profit(predict_1, target_1)))\n",
    "print('Прибыль в Region_2 по скважинам с максимальным количеством сырья составляет {} млрд.руб. '.format(top_profit(predict_2, target_2)))\n",
    "print('Прибыль в Region_3 по скважинам с максимальным количеством сырья составляет {} млрд.руб. '.format(top_profit(predict_3, target_3)))"
   ]
  },
  {
   "cell_type": "markdown",
   "metadata": {},
   "source": [
    "Таким образом, достаточный объем сырья для безубыточной разработки составляет 111 тыс. барр. Ни в одном из регионов средние объемы не достигают этой отметки.\n",
    "Далее были отобраны 200 скважин в каждом регионе с наибольшей мощностью, которые предсказала модель. По этим 200 скважинам просуммировали фактические данные и посчитали прибыль. По предварительным данным в каждой регионе прибыль от разработки составит от 2,4 до 3,32 миллиарда рублей. При этом максимальная прибыль в Region_1, а минимальная - в Region_2."
   ]
  },
  {
   "cell_type": "markdown",
   "metadata": {},
   "source": [
    "## Расчёт прибыли и рисков "
   ]
  },
  {
   "cell_type": "markdown",
   "metadata": {},
   "source": [
    "Посчитаем риски и прибыль для каждого региона:\n",
    "- Примените технику Bootstrap с 1000 выборок, чтобы найти распределение прибыли.\n",
    "- Найдите среднюю прибыль, 95%-й доверительный интервал и риск убытков. Убыток — это отрицательная прибыль.\n",
    "- Напишите выводы: предложите регион для разработки скважин и обоснуйте выбор."
   ]
  },
  {
   "cell_type": "code",
   "execution_count": 20,
   "metadata": {},
   "outputs": [],
   "source": [
    "# функция для bootstrap и расчета метрик \n",
    "def bootstrap(target, pred):\n",
    "    state = np.random.RandomState(12345)\n",
    "    values = []\n",
    "    for i in range(1000): # бутстрап с 1000 выборок\n",
    "        target_subsample = target.reset_index(drop=True).sample(n=500, replace=True, random_state=state)\n",
    "        probs_subsample = pred[target_subsample.index]\n",
    "        value = top_profit(probs_subsample, target_subsample)\n",
    "        values.append(value)\n",
    "        \n",
    "    values = pd.Series(values)\n",
    "    lower = values.quantile(q=0.025) # начало доверительного интервала\n",
    "    upper = values.quantile(0.975) # конец доверительного интервала\n",
    "    means = values.mean() # средняя выручка\n",
    "    loss = values[values<0] # убытки\n",
    "    max_values = values.max() # максимальная прибыль\n",
    "    max_loss = values.min() # максимальный убыток\n",
    "    print(\"Средняя выручка составляет {:.5f} млрд.руб.\".format(means))\n",
    "    print(\"2.5%-квантиль:\", round(lower, 6))\n",
    "    print(\"97.5%-квантиль:\", round(upper, 6))\n",
    "    print(\"Вероятность убытка составляет {:.2%}\".format(len(loss)/len(values)))\n",
    "    print(\"Максимальная выручка составляет {:.5f} млрд.руб.\".format(max_values))\n",
    "    print(\"Максимальный убыток составляет {:.5f} млрд.руб.\".format(max_loss))"
   ]
  },
  {
   "cell_type": "code",
   "execution_count": 21,
   "metadata": {},
   "outputs": [
    {
     "name": "stdout",
     "output_type": "stream",
     "text": [
      "\u001b[1mRegion_1\u001b[0m\n",
      "Средняя выручка составляет 0.39617 млрд.руб.\n",
      "2.5%-квантиль: -0.111214\n",
      "97.5%-квантиль: 0.909764\n",
      "Вероятность убытка составляет 6.90%\n",
      "Максимальная выручка составляет 1.34927 млрд.руб.\n",
      "Максимальный убыток составляет -0.36957 млрд.руб.\n"
     ]
    }
   ],
   "source": [
    "print('\\033[1m' +'Region_1'+'\\033[0m') \n",
    "bootstrap(target_1, predict_1)"
   ]
  },
  {
   "cell_type": "code",
   "execution_count": 22,
   "metadata": {},
   "outputs": [
    {
     "name": "stdout",
     "output_type": "stream",
     "text": [
      "\u001b[1mRegion_2\u001b[0m\n",
      "Средняя выручка составляет 0.45605 млрд.руб.\n",
      "2.5%-квантиль: 0.03382\n",
      "97.5%-квантиль: 0.852286\n",
      "Вероятность убытка составляет 1.50%\n",
      "Максимальная выручка составляет 1.15405 млрд.руб.\n",
      "Максимальный убыток составляет -0.19227 млрд.руб.\n"
     ]
    }
   ],
   "source": [
    "print('\\033[1m' +'Region_2'+'\\033[0m')\n",
    "bootstrap(target_2, predict_2)"
   ]
  },
  {
   "cell_type": "code",
   "execution_count": 23,
   "metadata": {},
   "outputs": [
    {
     "name": "stdout",
     "output_type": "stream",
     "text": [
      "\u001b[1mRegion_3\u001b[0m\n",
      "Средняя выручка составляет 0.40440 млрд.руб.\n",
      "2.5%-квантиль: -0.163349\n",
      "97.5%-квантиль: 0.950363\n",
      "Вероятность убытка составляет 7.60%\n",
      "Максимальная выручка составляет 1.33059 млрд.руб.\n",
      "Максимальный убыток составляет -0.41786 млрд.руб.\n"
     ]
    }
   ],
   "source": [
    "print('\\033[1m' +'Region_3'+'\\033[0m')\n",
    "bootstrap(target_3, predict_3)"
   ]
  },
  {
   "cell_type": "markdown",
   "metadata": {},
   "source": [
    "По всем параметрам самым прибыльным оказался Регион_2 со средней выручкой 0.45 млрд.руб. и вероятностью убытка в 1.5%. В двух других регионах вероятность убытка начинается от 6.9%, что намного превышает допустимый порог 2.5%. И при доверительном интервале 95% уже в начале интервала Регион_2 уже показывает прибыль, что отличает его от двух других регионов.\n",
    "\n",
    "Таким образом, при сравнительно меньшими запасами сырья в Регионе_2 средняя доходность выше, чем в двух других регионов.\n"
   ]
  },
  {
   "cell_type": "markdown",
   "metadata": {},
   "source": [
    "## Общий вывод"
   ]
  },
  {
   "cell_type": "markdown",
   "metadata": {},
   "source": [
    "В исходных данных были предоставлены пробы нефти в трёх регионах: в каждом 10 000 месторождений, где измерили качество нефти и объём её запасов для выбора перспективного региона для разработки скважин.\n",
    "Был произведен анализ данных, в котором были проверены дубликаты, пропущенные значения, распределение данных по гистограмме и корреляция. По гистограммам по признаку product в Регионе_1 и Регионе_3 распределение близилось к нормальному, в свою очередь, в Регионе_2 распределение с двумя пиками и коэффициент корреляции между f3 и product равняется практически 1.\n",
    "\n",
    "Далее данные были разбиты на обучающие и валидационные выборки. Модели обучены с помощью линейной регресси, сделан прогноз и рассчитано среднеквадратичное отклонение. Таким образом, наименьшее среднеквадратичное отклонение было в Регионе_2, при этом в этом регионе самый маленький средний запас сырья.\n",
    "\n",
    "Перед расчетом прибыли и рисков был посчитан достаточный объем сырья для безубыточной разработки, который составляет 111 тыс. барр. Ни в одном из регионов средние объемы не достигают этой отметки. Следующим шагом были отобраны 200 скважин в каждом регионе с наибольшей мощностью, которые предсказала модель. По этим 200 скважинам просуммировали фактические данные и посчитали прибыль. По предварительным данным в каждой регионе прибыль от разработки составит от 2,4 до 3,32 миллиарда рублей. При этом максимальная прибыль в Region_1, а минимальная - в Region_2.\n",
    "\n",
    "При расчете прибыли и рисков в каждом регионе была использована техника Bootstrap с 1000 выборок, чтобы найти распределение прибыли, найдена средняя выручка, 95%-й доверительный интервал и  вероятность убытков.\n",
    "По всем параметрам Регион_2 является регионом с наибольшим показателем выручки - 0.45 млрд.руб. и наименьшей вероятность убытков - 1.5%\n",
    "\n",
    "Таким образом, не смотря на сравнительно меньшие предсказания запасов сырья по сравнению с другими регионами, в Регионе_2 вероятность возникновения убытка составляет 1,5% и средней выручкой 0.45 млрд., что по всем показателям является лучшим регионом для разработки. Поэтому предлагаю Регион_2 для разработки 200 скважин.\n",
    "\n"
   ]
  }
 ],
 "metadata": {
  "ExecuteTimeLog": [
   {
    "duration": 427,
    "start_time": "2023-01-18T10:54:05.434Z"
   },
   {
    "duration": 408,
    "start_time": "2023-01-18T10:54:05.962Z"
   },
   {
    "duration": 606,
    "start_time": "2023-01-18T10:54:06.400Z"
   },
   {
    "duration": 547,
    "start_time": "2023-01-18T10:54:07.008Z"
   },
   {
    "duration": 22,
    "start_time": "2023-01-18T10:54:07.557Z"
   },
   {
    "duration": 13,
    "start_time": "2023-01-18T10:54:19.703Z"
   },
   {
    "duration": 13,
    "start_time": "2023-01-18T10:54:27.934Z"
   },
   {
    "duration": 14,
    "start_time": "2023-01-18T10:54:33.831Z"
   },
   {
    "duration": 18,
    "start_time": "2023-01-18T10:54:43.779Z"
   },
   {
    "duration": 15,
    "start_time": "2023-01-18T10:54:51.265Z"
   },
   {
    "duration": 15,
    "start_time": "2023-01-18T10:54:58.338Z"
   },
   {
    "duration": 15,
    "start_time": "2023-01-18T10:55:06.028Z"
   },
   {
    "duration": 39,
    "start_time": "2023-01-18T10:55:29.575Z"
   },
   {
    "duration": 39,
    "start_time": "2023-01-18T10:55:47.775Z"
   },
   {
    "duration": 36,
    "start_time": "2023-01-18T10:55:57.733Z"
   },
   {
    "duration": 14,
    "start_time": "2023-01-18T10:56:43.250Z"
   },
   {
    "duration": 3,
    "start_time": "2023-01-18T12:53:23.048Z"
   },
   {
    "duration": 152,
    "start_time": "2023-01-18T12:53:23.588Z"
   },
   {
    "duration": 146,
    "start_time": "2023-01-18T12:53:24.108Z"
   },
   {
    "duration": 164,
    "start_time": "2023-01-18T12:53:24.619Z"
   },
   {
    "duration": 3,
    "start_time": "2023-01-18T12:55:53.777Z"
   },
   {
    "duration": 162,
    "start_time": "2023-01-18T12:55:54.307Z"
   },
   {
    "duration": 153,
    "start_time": "2023-01-18T12:55:54.900Z"
   },
   {
    "duration": 162,
    "start_time": "2023-01-18T12:55:55.465Z"
   },
   {
    "duration": 3,
    "start_time": "2023-01-18T12:55:55.995Z"
   },
   {
    "duration": 89,
    "start_time": "2023-01-18T12:56:06.061Z"
   },
   {
    "duration": 51,
    "start_time": "2023-01-18T12:57:06.757Z"
   },
   {
    "duration": 3,
    "start_time": "2023-01-18T12:57:22.836Z"
   },
   {
    "duration": 10,
    "start_time": "2023-01-18T12:57:24.089Z"
   },
   {
    "duration": 4,
    "start_time": "2023-01-18T13:24:41.086Z"
   },
   {
    "duration": 10,
    "start_time": "2023-01-18T13:24:42.314Z"
   },
   {
    "duration": 3,
    "start_time": "2023-01-18T17:02:54.226Z"
   },
   {
    "duration": 417,
    "start_time": "2023-01-18T17:02:54.754Z"
   },
   {
    "duration": 3,
    "start_time": "2023-01-18T17:02:56.046Z"
   },
   {
    "duration": 28,
    "start_time": "2023-01-18T17:03:08.337Z"
   },
   {
    "duration": 3,
    "start_time": "2023-01-18T17:03:40.288Z"
   },
   {
    "duration": 33,
    "start_time": "2023-01-18T17:03:43.878Z"
   },
   {
    "duration": 4,
    "start_time": "2023-01-18T17:03:57.683Z"
   },
   {
    "duration": 2,
    "start_time": "2023-01-18T17:04:09.180Z"
   },
   {
    "duration": 3,
    "start_time": "2023-01-18T17:04:12.034Z"
   },
   {
    "duration": 3,
    "start_time": "2023-01-18T17:04:34.196Z"
   },
   {
    "duration": 3,
    "start_time": "2023-01-18T17:04:35.340Z"
   },
   {
    "duration": 3,
    "start_time": "2023-01-18T17:04:40.928Z"
   },
   {
    "duration": 3,
    "start_time": "2023-01-18T17:06:08.360Z"
   },
   {
    "duration": 2,
    "start_time": "2023-01-18T17:06:08.931Z"
   },
   {
    "duration": 4,
    "start_time": "2023-01-18T17:07:02.218Z"
   },
   {
    "duration": 786,
    "start_time": "2023-01-18T17:07:05.132Z"
   },
   {
    "duration": 3,
    "start_time": "2023-01-18T17:07:18.663Z"
   },
   {
    "duration": 342,
    "start_time": "2023-01-18T17:07:19.366Z"
   },
   {
    "duration": 3,
    "start_time": "2023-01-18T17:07:50.220Z"
   },
   {
    "duration": 420,
    "start_time": "2023-01-18T17:07:51.077Z"
   },
   {
    "duration": 3,
    "start_time": "2023-01-18T17:08:00.839Z"
   },
   {
    "duration": 358,
    "start_time": "2023-01-18T17:08:01.464Z"
   },
   {
    "duration": 5,
    "start_time": "2023-01-18T17:12:27.300Z"
   },
   {
    "duration": 413,
    "start_time": "2023-01-18T17:12:29.152Z"
   },
   {
    "duration": 4,
    "start_time": "2023-01-18T17:13:12.072Z"
   },
   {
    "duration": 382,
    "start_time": "2023-01-18T17:13:12.588Z"
   },
   {
    "duration": 3,
    "start_time": "2023-01-18T17:13:28.768Z"
   },
   {
    "duration": 395,
    "start_time": "2023-01-18T17:13:30.987Z"
   },
   {
    "duration": 3,
    "start_time": "2023-01-18T17:15:46.822Z"
   },
   {
    "duration": 441,
    "start_time": "2023-01-18T17:15:48.360Z"
   },
   {
    "duration": 4,
    "start_time": "2023-01-18T17:16:05.517Z"
   },
   {
    "duration": 353,
    "start_time": "2023-01-18T17:16:06.029Z"
   },
   {
    "duration": 4,
    "start_time": "2023-01-18T17:16:16.107Z"
   },
   {
    "duration": 363,
    "start_time": "2023-01-18T17:16:17.558Z"
   },
   {
    "duration": 3,
    "start_time": "2023-01-18T17:17:32.019Z"
   },
   {
    "duration": 373,
    "start_time": "2023-01-18T17:17:32.519Z"
   },
   {
    "duration": 4,
    "start_time": "2023-01-18T17:17:45.066Z"
   },
   {
    "duration": 398,
    "start_time": "2023-01-18T17:17:45.996Z"
   },
   {
    "duration": 5,
    "start_time": "2023-01-18T17:21:18.122Z"
   },
   {
    "duration": 4,
    "start_time": "2023-01-18T17:21:33.445Z"
   },
   {
    "duration": 465,
    "start_time": "2023-01-18T17:21:35.380Z"
   },
   {
    "duration": 4,
    "start_time": "2023-01-18T17:21:51.517Z"
   },
   {
    "duration": 416,
    "start_time": "2023-01-18T17:21:54.497Z"
   },
   {
    "duration": 4,
    "start_time": "2023-01-18T17:23:10.514Z"
   },
   {
    "duration": 418,
    "start_time": "2023-01-18T17:23:11.610Z"
   },
   {
    "duration": 5,
    "start_time": "2023-01-18T17:28:27.527Z"
   },
   {
    "duration": 427,
    "start_time": "2023-01-18T17:28:28.640Z"
   },
   {
    "duration": 4,
    "start_time": "2023-01-18T17:28:52.568Z"
   },
   {
    "duration": 436,
    "start_time": "2023-01-18T17:28:53.856Z"
   },
   {
    "duration": 6,
    "start_time": "2023-01-18T17:29:47.746Z"
   },
   {
    "duration": 407,
    "start_time": "2023-01-18T17:29:49.052Z"
   },
   {
    "duration": 4,
    "start_time": "2023-01-18T17:30:56.145Z"
   },
   {
    "duration": 526,
    "start_time": "2023-01-18T17:31:01.226Z"
   },
   {
    "duration": 5,
    "start_time": "2023-01-18T17:32:23.112Z"
   },
   {
    "duration": 437,
    "start_time": "2023-01-18T17:32:23.989Z"
   },
   {
    "duration": 4,
    "start_time": "2023-01-18T17:32:46.854Z"
   },
   {
    "duration": 427,
    "start_time": "2023-01-18T17:32:48.059Z"
   },
   {
    "duration": 3,
    "start_time": "2023-01-18T17:48:03.682Z"
   },
   {
    "duration": 5,
    "start_time": "2023-01-18T17:48:04.353Z"
   },
   {
    "duration": 5,
    "start_time": "2023-01-18T17:48:53.811Z"
   },
   {
    "duration": 480,
    "start_time": "2023-01-18T17:48:54.827Z"
   },
   {
    "duration": 5,
    "start_time": "2023-01-18T17:51:25.610Z"
   },
   {
    "duration": 21,
    "start_time": "2023-01-18T17:51:26.956Z"
   },
   {
    "duration": 3,
    "start_time": "2023-01-18T17:52:12.005Z"
   },
   {
    "duration": 3,
    "start_time": "2023-01-18T17:52:12.785Z"
   },
   {
    "duration": 2,
    "start_time": "2023-01-18T17:52:13.333Z"
   },
   {
    "duration": 4,
    "start_time": "2023-01-18T17:52:14.081Z"
   },
   {
    "duration": 494,
    "start_time": "2023-01-18T17:52:14.815Z"
   },
   {
    "duration": 5,
    "start_time": "2023-01-18T17:52:31.025Z"
   },
   {
    "duration": 517,
    "start_time": "2023-01-18T17:52:32.447Z"
   },
   {
    "duration": 50,
    "start_time": "2023-01-18T17:52:47.998Z"
   },
   {
    "duration": 425,
    "start_time": "2023-01-18T17:52:49.251Z"
   },
   {
    "duration": 5,
    "start_time": "2023-01-18T17:52:59.252Z"
   },
   {
    "duration": 466,
    "start_time": "2023-01-18T17:52:59.978Z"
   },
   {
    "duration": 7,
    "start_time": "2023-01-18T17:53:08.108Z"
   },
   {
    "duration": 445,
    "start_time": "2023-01-18T17:53:08.963Z"
   },
   {
    "duration": 3,
    "start_time": "2023-01-18T17:54:35.275Z"
   },
   {
    "duration": 6,
    "start_time": "2023-01-18T17:54:35.837Z"
   },
   {
    "duration": 445,
    "start_time": "2023-01-18T17:54:36.322Z"
   },
   {
    "duration": 4,
    "start_time": "2023-01-18T17:54:49.509Z"
   },
   {
    "duration": 3,
    "start_time": "2023-01-18T17:54:50.089Z"
   },
   {
    "duration": 5,
    "start_time": "2023-01-18T17:54:50.667Z"
   },
   {
    "duration": 1421,
    "start_time": "2023-01-18T17:54:51.341Z"
   },
   {
    "duration": 4,
    "start_time": "2023-01-18T17:55:53.620Z"
   },
   {
    "duration": 1379,
    "start_time": "2023-01-18T17:55:54.341Z"
   },
   {
    "duration": 9,
    "start_time": "2023-01-18T17:59:19.651Z"
   },
   {
    "duration": 17,
    "start_time": "2023-01-18T17:59:23.327Z"
   },
   {
    "duration": 5,
    "start_time": "2023-01-18T18:00:24.962Z"
   },
   {
    "duration": 1442,
    "start_time": "2023-01-18T18:00:25.780Z"
   },
   {
    "duration": 5,
    "start_time": "2023-01-18T18:00:42.789Z"
   },
   {
    "duration": 1459,
    "start_time": "2023-01-18T18:00:43.740Z"
   },
   {
    "duration": 4,
    "start_time": "2023-01-18T18:00:58.655Z"
   },
   {
    "duration": 1477,
    "start_time": "2023-01-18T18:00:59.482Z"
   },
   {
    "duration": 5,
    "start_time": "2023-01-18T18:01:06.641Z"
   },
   {
    "duration": 1333,
    "start_time": "2023-01-18T18:01:07.420Z"
   },
   {
    "duration": 5,
    "start_time": "2023-01-18T18:02:13.615Z"
   },
   {
    "duration": 471,
    "start_time": "2023-01-18T18:02:14.192Z"
   },
   {
    "duration": 3,
    "start_time": "2023-01-18T18:02:41.864Z"
   },
   {
    "duration": 377,
    "start_time": "2023-01-18T18:02:42.443Z"
   },
   {
    "duration": 3,
    "start_time": "2023-01-18T18:02:43.081Z"
   },
   {
    "duration": 5,
    "start_time": "2023-01-18T18:02:43.982Z"
   },
   {
    "duration": 16,
    "start_time": "2023-01-18T18:02:44.625Z"
   },
   {
    "duration": 5,
    "start_time": "2023-01-18T18:02:45.480Z"
   },
   {
    "duration": 1438,
    "start_time": "2023-01-18T18:02:46.373Z"
   },
   {
    "duration": 68,
    "start_time": "2023-01-18T18:03:01.582Z"
   },
   {
    "duration": 1259,
    "start_time": "2023-01-18T18:03:02.173Z"
   },
   {
    "duration": 5,
    "start_time": "2023-01-18T18:03:09.074Z"
   },
   {
    "duration": 1405,
    "start_time": "2023-01-18T18:03:09.743Z"
   },
   {
    "duration": 4,
    "start_time": "2023-01-18T18:03:44.890Z"
   },
   {
    "duration": 1272,
    "start_time": "2023-01-18T18:03:45.599Z"
   },
   {
    "duration": 4,
    "start_time": "2023-01-18T18:06:49.506Z"
   },
   {
    "duration": 21,
    "start_time": "2023-01-18T18:06:50.354Z"
   },
   {
    "duration": 5,
    "start_time": "2023-01-18T18:07:19.062Z"
   },
   {
    "duration": 1458,
    "start_time": "2023-01-18T18:07:19.782Z"
   },
   {
    "duration": 51,
    "start_time": "2023-01-18T18:10:35.445Z"
   },
   {
    "duration": 3,
    "start_time": "2023-01-18T18:12:39.833Z"
   },
   {
    "duration": 5,
    "start_time": "2023-01-18T18:12:40.504Z"
   },
   {
    "duration": 1334,
    "start_time": "2023-01-18T18:12:41.218Z"
   },
   {
    "duration": 1439,
    "start_time": "2023-01-18T18:13:08.556Z"
   },
   {
    "duration": 770,
    "start_time": "2023-01-19T09:24:43.208Z"
   },
   {
    "duration": 878,
    "start_time": "2023-01-19T09:24:44.256Z"
   },
   {
    "duration": 3,
    "start_time": "2023-01-19T09:24:45.312Z"
   },
   {
    "duration": 3,
    "start_time": "2023-01-19T09:24:46.136Z"
   },
   {
    "duration": 20,
    "start_time": "2023-01-19T09:24:46.776Z"
   },
   {
    "duration": 3,
    "start_time": "2023-01-19T09:24:58.556Z"
   },
   {
    "duration": 77,
    "start_time": "2023-01-19T09:24:59.176Z"
   },
   {
    "duration": 9,
    "start_time": "2023-01-19T09:31:45.335Z"
   },
   {
    "duration": 20,
    "start_time": "2023-01-19T09:32:29.375Z"
   },
   {
    "duration": 2,
    "start_time": "2023-01-19T09:40:21.196Z"
   },
   {
    "duration": 4,
    "start_time": "2023-01-19T09:40:21.842Z"
   },
   {
    "duration": 1532,
    "start_time": "2023-01-19T09:40:22.654Z"
   },
   {
    "duration": 1336,
    "start_time": "2023-01-19T09:40:40.575Z"
   },
   {
    "duration": 1577,
    "start_time": "2023-01-19T09:56:52.789Z"
   },
   {
    "duration": 5,
    "start_time": "2023-01-19T09:59:19.117Z"
   },
   {
    "duration": 1586,
    "start_time": "2023-01-19T09:59:20.690Z"
   },
   {
    "duration": 5,
    "start_time": "2023-01-19T09:59:46.216Z"
   },
   {
    "duration": 1802,
    "start_time": "2023-01-19T09:59:47.673Z"
   },
   {
    "duration": 5,
    "start_time": "2023-01-19T10:03:23.499Z"
   },
   {
    "duration": 1750,
    "start_time": "2023-01-19T10:03:24.384Z"
   },
   {
    "duration": 68,
    "start_time": "2023-01-19T10:04:19.768Z"
   },
   {
    "duration": 1803,
    "start_time": "2023-01-19T10:04:20.590Z"
   },
   {
    "duration": 78,
    "start_time": "2023-01-19T10:04:39.178Z"
   },
   {
    "duration": 1846,
    "start_time": "2023-01-19T10:04:39.928Z"
   },
   {
    "duration": 75,
    "start_time": "2023-01-19T10:04:51.000Z"
   },
   {
    "duration": 79,
    "start_time": "2023-01-19T10:05:26.601Z"
   },
   {
    "duration": 5,
    "start_time": "2023-01-19T10:06:05.974Z"
   },
   {
    "duration": 1717,
    "start_time": "2023-01-19T10:06:06.781Z"
   },
   {
    "duration": 7,
    "start_time": "2023-01-19T10:06:14.277Z"
   },
   {
    "duration": 1811,
    "start_time": "2023-01-19T10:06:15.073Z"
   },
   {
    "duration": 5,
    "start_time": "2023-01-19T10:06:32.312Z"
   },
   {
    "duration": 1778,
    "start_time": "2023-01-19T10:06:33.209Z"
   },
   {
    "duration": 5,
    "start_time": "2023-01-19T10:21:03.352Z"
   },
   {
    "duration": 1702,
    "start_time": "2023-01-19T10:21:04.508Z"
   },
   {
    "duration": 6,
    "start_time": "2023-01-19T10:21:14.521Z"
   },
   {
    "duration": 1718,
    "start_time": "2023-01-19T10:21:15.049Z"
   },
   {
    "duration": 5,
    "start_time": "2023-01-19T10:22:14.477Z"
   },
   {
    "duration": 1731,
    "start_time": "2023-01-19T10:22:15.074Z"
   },
   {
    "duration": 7,
    "start_time": "2023-01-19T10:23:31.609Z"
   },
   {
    "duration": 1828,
    "start_time": "2023-01-19T10:23:32.032Z"
   },
   {
    "duration": 6,
    "start_time": "2023-01-19T10:24:31.250Z"
   },
   {
    "duration": 1773,
    "start_time": "2023-01-19T10:24:31.937Z"
   },
   {
    "duration": 1475,
    "start_time": "2023-01-19T10:50:04.239Z"
   },
   {
    "duration": 1616,
    "start_time": "2023-01-19T10:50:05.716Z"
   },
   {
    "duration": 3,
    "start_time": "2023-01-19T10:50:09.109Z"
   },
   {
    "duration": 3,
    "start_time": "2023-01-19T10:50:10.055Z"
   },
   {
    "duration": 5,
    "start_time": "2023-01-19T10:50:11.074Z"
   },
   {
    "duration": 1770,
    "start_time": "2023-01-19T10:50:12.305Z"
   },
   {
    "duration": 3,
    "start_time": "2023-01-19T10:50:42.138Z"
   },
   {
    "duration": 3,
    "start_time": "2023-01-19T10:50:42.699Z"
   },
   {
    "duration": 5,
    "start_time": "2023-01-19T10:50:43.339Z"
   },
   {
    "duration": 1619,
    "start_time": "2023-01-19T10:50:44.044Z"
   },
   {
    "duration": 5,
    "start_time": "2023-01-19T11:26:55.537Z"
   },
   {
    "duration": 4,
    "start_time": "2023-01-19T11:27:55.567Z"
   },
   {
    "duration": 113,
    "start_time": "2023-01-19T11:27:56.046Z"
   },
   {
    "duration": 22,
    "start_time": "2023-01-19T11:28:15.793Z"
   },
   {
    "duration": 390,
    "start_time": "2023-01-19T11:28:18.396Z"
   },
   {
    "duration": 3,
    "start_time": "2023-01-19T11:28:18.787Z"
   },
   {
    "duration": 9,
    "start_time": "2023-01-19T11:28:18.792Z"
   },
   {
    "duration": 5,
    "start_time": "2023-01-19T11:28:18.963Z"
   },
   {
    "duration": 1774,
    "start_time": "2023-01-19T11:28:19.133Z"
   },
   {
    "duration": 5,
    "start_time": "2023-01-19T11:28:20.909Z"
   },
   {
    "duration": 439,
    "start_time": "2023-01-19T11:28:20.915Z"
   },
   {
    "duration": 5,
    "start_time": "2023-01-19T11:28:37.227Z"
   },
   {
    "duration": 380,
    "start_time": "2023-01-19T11:28:37.670Z"
   },
   {
    "duration": 5,
    "start_time": "2023-01-19T11:29:53.327Z"
   },
   {
    "duration": 391,
    "start_time": "2023-01-19T11:29:53.870Z"
   },
   {
    "duration": 184,
    "start_time": "2023-01-19T11:30:36.166Z"
   },
   {
    "duration": 269,
    "start_time": "2023-01-19T11:30:41.584Z"
   },
   {
    "duration": 5,
    "start_time": "2023-01-19T11:42:09.407Z"
   },
   {
    "duration": 199,
    "start_time": "2023-01-19T11:42:10.458Z"
   },
   {
    "duration": 2,
    "start_time": "2023-01-19T11:53:23.951Z"
   },
   {
    "duration": 2,
    "start_time": "2023-01-19T11:53:24.503Z"
   },
   {
    "duration": 2,
    "start_time": "2023-01-19T11:53:25.050Z"
   },
   {
    "duration": 54,
    "start_time": "2023-01-19T11:53:44.892Z"
   },
   {
    "duration": 46,
    "start_time": "2023-01-19T11:53:52.745Z"
   },
   {
    "duration": 4,
    "start_time": "2023-01-19T11:53:59.847Z"
   },
   {
    "duration": 4,
    "start_time": "2023-01-19T11:54:12.683Z"
   },
   {
    "duration": 3,
    "start_time": "2023-01-19T11:54:30.683Z"
   },
   {
    "duration": 4,
    "start_time": "2023-01-19T11:57:27.474Z"
   },
   {
    "duration": 4,
    "start_time": "2023-01-19T11:57:40.904Z"
   },
   {
    "duration": 4,
    "start_time": "2023-01-19T11:57:52.788Z"
   },
   {
    "duration": 3,
    "start_time": "2023-01-19T11:58:01.606Z"
   },
   {
    "duration": 5,
    "start_time": "2023-01-19T12:03:37.041Z"
   },
   {
    "duration": 3,
    "start_time": "2023-01-19T12:03:46.343Z"
   },
   {
    "duration": 51,
    "start_time": "2023-01-19T12:03:54.817Z"
   },
   {
    "duration": 51,
    "start_time": "2023-01-19T12:06:45.169Z"
   },
   {
    "duration": 49,
    "start_time": "2023-01-19T12:06:50.989Z"
   },
   {
    "duration": 44,
    "start_time": "2023-01-19T12:08:27.768Z"
   },
   {
    "duration": 55,
    "start_time": "2023-01-19T12:08:35.878Z"
   },
   {
    "duration": 48,
    "start_time": "2023-01-19T12:09:54.466Z"
   },
   {
    "duration": 4,
    "start_time": "2023-01-19T12:10:02.446Z"
   },
   {
    "duration": 12,
    "start_time": "2023-01-19T12:10:16.739Z"
   },
   {
    "duration": 42,
    "start_time": "2023-01-19T12:10:32.064Z"
   },
   {
    "duration": 3,
    "start_time": "2023-01-19T12:10:42.184Z"
   },
   {
    "duration": 9,
    "start_time": "2023-01-19T12:20:52.247Z"
   },
   {
    "duration": 3,
    "start_time": "2023-01-19T12:20:56.547Z"
   },
   {
    "duration": 4,
    "start_time": "2023-01-19T12:20:57.047Z"
   },
   {
    "duration": 3,
    "start_time": "2023-01-19T12:21:10.172Z"
   },
   {
    "duration": 3,
    "start_time": "2023-01-19T12:21:54.842Z"
   },
   {
    "duration": 2,
    "start_time": "2023-01-19T12:21:55.545Z"
   },
   {
    "duration": 3,
    "start_time": "2023-01-19T12:21:56.244Z"
   },
   {
    "duration": 2,
    "start_time": "2023-01-19T12:21:56.972Z"
   },
   {
    "duration": 4,
    "start_time": "2023-01-19T12:21:58.447Z"
   },
   {
    "duration": 3,
    "start_time": "2023-01-19T12:42:35.111Z"
   },
   {
    "duration": 10,
    "start_time": "2023-01-19T12:43:01.401Z"
   },
   {
    "duration": 3,
    "start_time": "2023-01-19T12:52:30.419Z"
   },
   {
    "duration": 8,
    "start_time": "2023-01-19T12:52:31.464Z"
   },
   {
    "duration": 4,
    "start_time": "2023-01-19T12:54:20.497Z"
   },
   {
    "duration": 348,
    "start_time": "2023-01-19T12:54:21.305Z"
   },
   {
    "duration": 3,
    "start_time": "2023-01-19T12:54:36.051Z"
   },
   {
    "duration": 10,
    "start_time": "2023-01-19T12:54:36.659Z"
   },
   {
    "duration": 5,
    "start_time": "2023-01-19T12:56:33.511Z"
   },
   {
    "duration": 354,
    "start_time": "2023-01-19T12:56:34.400Z"
   },
   {
    "duration": 7,
    "start_time": "2023-01-19T12:57:31.013Z"
   },
   {
    "duration": 379,
    "start_time": "2023-01-19T12:57:31.575Z"
   },
   {
    "duration": 4,
    "start_time": "2023-01-19T12:59:14.378Z"
   },
   {
    "duration": 298,
    "start_time": "2023-01-19T12:59:15.059Z"
   },
   {
    "duration": 5,
    "start_time": "2023-01-19T12:59:27.140Z"
   },
   {
    "duration": 5,
    "start_time": "2023-01-19T13:14:28.313Z"
   },
   {
    "duration": 308,
    "start_time": "2023-01-19T13:14:29.549Z"
   },
   {
    "duration": 5,
    "start_time": "2023-01-19T13:14:47.232Z"
   },
   {
    "duration": 350,
    "start_time": "2023-01-19T13:14:47.805Z"
   },
   {
    "duration": 3,
    "start_time": "2023-01-19T13:15:13.449Z"
   },
   {
    "duration": 365,
    "start_time": "2023-01-19T13:15:13.985Z"
   },
   {
    "duration": 3,
    "start_time": "2023-01-19T13:15:14.668Z"
   },
   {
    "duration": 7,
    "start_time": "2023-01-19T13:15:15.265Z"
   },
   {
    "duration": 6,
    "start_time": "2023-01-19T13:15:15.875Z"
   },
   {
    "duration": 1566,
    "start_time": "2023-01-19T13:15:16.654Z"
   },
   {
    "duration": 86,
    "start_time": "2023-01-19T13:15:20.558Z"
   },
   {
    "duration": 389,
    "start_time": "2023-01-19T13:15:21.661Z"
   },
   {
    "duration": 5,
    "start_time": "2023-01-19T13:15:22.546Z"
   },
   {
    "duration": 377,
    "start_time": "2023-01-19T13:15:23.272Z"
   },
   {
    "duration": 4,
    "start_time": "2023-01-19T13:16:02.372Z"
   },
   {
    "duration": 409,
    "start_time": "2023-01-19T13:16:02.845Z"
   },
   {
    "duration": 4,
    "start_time": "2023-01-19T13:16:33.670Z"
   },
   {
    "duration": 281,
    "start_time": "2023-01-19T13:16:34.377Z"
   },
   {
    "duration": 5,
    "start_time": "2023-01-19T13:16:35.183Z"
   },
   {
    "duration": 401,
    "start_time": "2023-01-19T13:16:36.453Z"
   },
   {
    "duration": 15,
    "start_time": "2023-01-19T13:17:54.380Z"
   },
   {
    "duration": 3,
    "start_time": "2023-01-19T13:18:02.584Z"
   },
   {
    "duration": 15,
    "start_time": "2023-01-19T13:18:03.165Z"
   },
   {
    "duration": 3,
    "start_time": "2023-01-19T13:18:16.011Z"
   },
   {
    "duration": 24,
    "start_time": "2023-01-19T13:18:16.569Z"
   },
   {
    "duration": 3,
    "start_time": "2023-01-19T13:19:12.954Z"
   },
   {
    "duration": 126,
    "start_time": "2023-01-19T13:19:13.759Z"
   },
   {
    "duration": 3,
    "start_time": "2023-01-19T13:22:33.364Z"
   },
   {
    "duration": 22,
    "start_time": "2023-01-19T13:22:34.084Z"
   },
   {
    "duration": 3,
    "start_time": "2023-01-19T13:30:51.880Z"
   },
   {
    "duration": 23,
    "start_time": "2023-01-19T13:30:52.600Z"
   },
   {
    "duration": 3,
    "start_time": "2023-01-19T13:32:00.066Z"
   },
   {
    "duration": 21,
    "start_time": "2023-01-19T13:32:01.161Z"
   },
   {
    "duration": 3,
    "start_time": "2023-01-19T13:32:20.420Z"
   },
   {
    "duration": 354,
    "start_time": "2023-01-19T13:32:20.604Z"
   },
   {
    "duration": 3,
    "start_time": "2023-01-19T13:32:20.960Z"
   },
   {
    "duration": 17,
    "start_time": "2023-01-19T13:32:20.967Z"
   },
   {
    "duration": 5,
    "start_time": "2023-01-19T13:32:21.142Z"
   },
   {
    "duration": 1631,
    "start_time": "2023-01-19T13:32:21.340Z"
   },
   {
    "duration": 3,
    "start_time": "2023-01-19T13:32:22.973Z"
   },
   {
    "duration": 278,
    "start_time": "2023-01-19T13:32:22.978Z"
   },
   {
    "duration": 93,
    "start_time": "2023-01-19T13:32:23.258Z"
   },
   {
    "duration": 406,
    "start_time": "2023-01-19T13:32:23.353Z"
   },
   {
    "duration": 3,
    "start_time": "2023-01-19T13:32:23.761Z"
   },
   {
    "duration": 3,
    "start_time": "2023-01-19T13:32:23.853Z"
   },
   {
    "duration": 4,
    "start_time": "2023-01-19T13:32:23.950Z"
   },
   {
    "duration": 3,
    "start_time": "2023-01-19T13:32:24.137Z"
   },
   {
    "duration": 3,
    "start_time": "2023-01-19T13:32:24.646Z"
   },
   {
    "duration": 3,
    "start_time": "2023-01-19T13:32:25.267Z"
   },
   {
    "duration": 3,
    "start_time": "2023-01-19T13:32:25.862Z"
   },
   {
    "duration": 3,
    "start_time": "2023-01-19T13:32:26.840Z"
   },
   {
    "duration": 22,
    "start_time": "2023-01-19T13:32:28.012Z"
   },
   {
    "duration": 4,
    "start_time": "2023-01-19T13:33:52.145Z"
   },
   {
    "duration": 21,
    "start_time": "2023-01-19T13:33:53.203Z"
   },
   {
    "duration": 3,
    "start_time": "2023-01-19T13:34:54.791Z"
   },
   {
    "duration": 372,
    "start_time": "2023-01-19T13:34:55.345Z"
   },
   {
    "duration": 3,
    "start_time": "2023-01-19T13:34:55.900Z"
   },
   {
    "duration": 6,
    "start_time": "2023-01-19T13:34:56.413Z"
   },
   {
    "duration": 5,
    "start_time": "2023-01-19T13:34:56.976Z"
   },
   {
    "duration": 1679,
    "start_time": "2023-01-19T13:34:57.577Z"
   },
   {
    "duration": 4,
    "start_time": "2023-01-19T13:35:02.872Z"
   },
   {
    "duration": 405,
    "start_time": "2023-01-19T13:35:03.447Z"
   },
   {
    "duration": 5,
    "start_time": "2023-01-19T13:35:04.561Z"
   },
   {
    "duration": 409,
    "start_time": "2023-01-19T13:35:07.345Z"
   },
   {
    "duration": 3,
    "start_time": "2023-01-19T13:35:10.680Z"
   },
   {
    "duration": 3,
    "start_time": "2023-01-19T13:35:11.305Z"
   },
   {
    "duration": 3,
    "start_time": "2023-01-19T13:35:12.043Z"
   },
   {
    "duration": 2,
    "start_time": "2023-01-19T13:35:12.681Z"
   },
   {
    "duration": 3,
    "start_time": "2023-01-19T13:35:13.342Z"
   },
   {
    "duration": 3,
    "start_time": "2023-01-19T13:35:14.149Z"
   },
   {
    "duration": 3,
    "start_time": "2023-01-19T13:35:14.896Z"
   },
   {
    "duration": 7,
    "start_time": "2023-01-19T13:35:16.361Z"
   },
   {
    "duration": 20,
    "start_time": "2023-01-19T13:35:17.409Z"
   },
   {
    "duration": 3,
    "start_time": "2023-01-19T13:35:59.846Z"
   },
   {
    "duration": 21,
    "start_time": "2023-01-19T13:36:00.380Z"
   },
   {
    "duration": 305,
    "start_time": "2023-01-19T13:39:52.752Z"
   },
   {
    "duration": 6,
    "start_time": "2023-01-19T13:39:53.345Z"
   },
   {
    "duration": 295,
    "start_time": "2023-01-19T13:39:54.063Z"
   },
   {
    "duration": 4,
    "start_time": "2023-01-19T13:39:56.136Z"
   },
   {
    "duration": 6,
    "start_time": "2023-01-19T13:39:56.502Z"
   },
   {
    "duration": 3,
    "start_time": "2023-01-19T13:39:56.729Z"
   },
   {
    "duration": 3,
    "start_time": "2023-01-19T13:39:57.047Z"
   },
   {
    "duration": 3,
    "start_time": "2023-01-19T13:39:57.345Z"
   },
   {
    "duration": 3,
    "start_time": "2023-01-19T13:39:57.746Z"
   },
   {
    "duration": 3,
    "start_time": "2023-01-19T13:39:57.965Z"
   },
   {
    "duration": 3,
    "start_time": "2023-01-19T13:39:58.604Z"
   },
   {
    "duration": 24,
    "start_time": "2023-01-19T13:39:58.994Z"
   },
   {
    "duration": 4,
    "start_time": "2023-01-19T13:40:17.572Z"
   },
   {
    "duration": 22,
    "start_time": "2023-01-19T13:40:18.241Z"
   },
   {
    "duration": 3,
    "start_time": "2023-01-19T13:40:39.114Z"
   },
   {
    "duration": 29,
    "start_time": "2023-01-19T13:40:43.716Z"
   },
   {
    "duration": 3,
    "start_time": "2023-01-19T13:42:31.154Z"
   },
   {
    "duration": 23,
    "start_time": "2023-01-19T13:42:32.075Z"
   },
   {
    "duration": 3,
    "start_time": "2023-01-19T13:42:48.027Z"
   },
   {
    "duration": 8,
    "start_time": "2023-01-19T13:42:48.952Z"
   },
   {
    "duration": 3,
    "start_time": "2023-01-19T13:43:42.608Z"
   },
   {
    "duration": 22,
    "start_time": "2023-01-19T13:43:43.356Z"
   },
   {
    "duration": 3,
    "start_time": "2023-01-19T13:44:24.258Z"
   },
   {
    "duration": 21,
    "start_time": "2023-01-19T13:44:24.883Z"
   },
   {
    "duration": 3,
    "start_time": "2023-01-19T13:44:35.308Z"
   },
   {
    "duration": 31,
    "start_time": "2023-01-19T13:44:36.239Z"
   },
   {
    "duration": 3,
    "start_time": "2023-01-19T13:44:47.198Z"
   },
   {
    "duration": 17,
    "start_time": "2023-01-19T13:44:47.992Z"
   },
   {
    "duration": 4,
    "start_time": "2023-01-19T13:45:33.404Z"
   },
   {
    "duration": 21,
    "start_time": "2023-01-19T13:45:35.900Z"
   },
   {
    "duration": 3,
    "start_time": "2023-01-19T13:45:48.159Z"
   },
   {
    "duration": 22,
    "start_time": "2023-01-19T13:45:48.761Z"
   },
   {
    "duration": 3,
    "start_time": "2023-01-19T13:46:50.705Z"
   },
   {
    "duration": 48,
    "start_time": "2023-01-19T13:46:51.206Z"
   },
   {
    "duration": 5,
    "start_time": "2023-01-19T13:48:48.678Z"
   },
   {
    "duration": 24,
    "start_time": "2023-01-19T13:48:49.241Z"
   },
   {
    "duration": 3,
    "start_time": "2023-01-19T13:49:21.071Z"
   },
   {
    "duration": 18,
    "start_time": "2023-01-19T13:49:21.639Z"
   },
   {
    "duration": 3,
    "start_time": "2023-01-19T13:50:54.777Z"
   },
   {
    "duration": 305,
    "start_time": "2023-01-19T13:50:55.946Z"
   },
   {
    "duration": 5,
    "start_time": "2023-01-19T13:50:56.710Z"
   },
   {
    "duration": 413,
    "start_time": "2023-01-19T13:50:57.637Z"
   },
   {
    "duration": 2,
    "start_time": "2023-01-19T13:51:00.183Z"
   },
   {
    "duration": 2,
    "start_time": "2023-01-19T13:51:00.712Z"
   },
   {
    "duration": 3,
    "start_time": "2023-01-19T13:51:01.272Z"
   },
   {
    "duration": 3,
    "start_time": "2023-01-19T13:51:01.925Z"
   },
   {
    "duration": 3,
    "start_time": "2023-01-19T13:51:02.480Z"
   },
   {
    "duration": 2,
    "start_time": "2023-01-19T13:51:03.061Z"
   },
   {
    "duration": 3,
    "start_time": "2023-01-19T13:51:03.656Z"
   },
   {
    "duration": 3,
    "start_time": "2023-01-19T13:51:26.373Z"
   },
   {
    "duration": 22,
    "start_time": "2023-01-19T13:51:27.105Z"
   },
   {
    "duration": 4,
    "start_time": "2023-01-19T13:54:10.681Z"
   },
   {
    "duration": 324,
    "start_time": "2023-01-19T13:54:11.235Z"
   },
   {
    "duration": 5,
    "start_time": "2023-01-19T13:54:12.138Z"
   },
   {
    "duration": 322,
    "start_time": "2023-01-19T13:54:12.738Z"
   },
   {
    "duration": 2,
    "start_time": "2023-01-19T13:54:15.237Z"
   },
   {
    "duration": 2,
    "start_time": "2023-01-19T13:54:15.836Z"
   },
   {
    "duration": 3,
    "start_time": "2023-01-19T13:54:16.439Z"
   },
   {
    "duration": 2,
    "start_time": "2023-01-19T13:54:17.033Z"
   },
   {
    "duration": 3,
    "start_time": "2023-01-19T13:54:17.563Z"
   },
   {
    "duration": 2,
    "start_time": "2023-01-19T13:54:18.065Z"
   },
   {
    "duration": 4,
    "start_time": "2023-01-19T13:54:18.536Z"
   },
   {
    "duration": 3,
    "start_time": "2023-01-19T13:54:19.704Z"
   },
   {
    "duration": 14,
    "start_time": "2023-01-19T13:54:20.836Z"
   },
   {
    "duration": 4,
    "start_time": "2023-01-19T13:54:51.983Z"
   },
   {
    "duration": 13,
    "start_time": "2023-01-19T13:54:52.373Z"
   },
   {
    "duration": 4,
    "start_time": "2023-01-19T13:56:29.153Z"
   },
   {
    "duration": 255,
    "start_time": "2023-01-19T13:56:29.702Z"
   },
   {
    "duration": 5,
    "start_time": "2023-01-19T13:56:30.249Z"
   },
   {
    "duration": 378,
    "start_time": "2023-01-19T13:56:30.876Z"
   },
   {
    "duration": 3,
    "start_time": "2023-01-19T13:56:33.524Z"
   },
   {
    "duration": 3,
    "start_time": "2023-01-19T13:56:34.080Z"
   },
   {
    "duration": 3,
    "start_time": "2023-01-19T13:56:34.597Z"
   },
   {
    "duration": 2,
    "start_time": "2023-01-19T13:56:35.397Z"
   },
   {
    "duration": 3,
    "start_time": "2023-01-19T13:56:36.036Z"
   },
   {
    "duration": 3,
    "start_time": "2023-01-19T13:56:36.601Z"
   },
   {
    "duration": 4,
    "start_time": "2023-01-19T13:56:37.221Z"
   },
   {
    "duration": 4,
    "start_time": "2023-01-19T13:56:38.499Z"
   },
   {
    "duration": 13,
    "start_time": "2023-01-19T13:56:39.278Z"
   },
   {
    "duration": 3,
    "start_time": "2023-01-19T13:58:31.159Z"
   },
   {
    "duration": 3,
    "start_time": "2023-01-19T13:59:06.615Z"
   },
   {
    "duration": 6,
    "start_time": "2023-01-19T13:59:07.437Z"
   },
   {
    "duration": 4,
    "start_time": "2023-01-19T14:00:14.934Z"
   },
   {
    "duration": 242,
    "start_time": "2023-01-19T14:00:15.412Z"
   },
   {
    "duration": 92,
    "start_time": "2023-01-19T14:00:15.657Z"
   },
   {
    "duration": 405,
    "start_time": "2023-01-19T14:00:15.850Z"
   },
   {
    "duration": 3,
    "start_time": "2023-01-19T14:00:17.801Z"
   },
   {
    "duration": 2,
    "start_time": "2023-01-19T14:00:17.973Z"
   },
   {
    "duration": 3,
    "start_time": "2023-01-19T14:00:18.143Z"
   },
   {
    "duration": 3,
    "start_time": "2023-01-19T14:00:18.337Z"
   },
   {
    "duration": 4,
    "start_time": "2023-01-19T14:00:18.539Z"
   },
   {
    "duration": 2,
    "start_time": "2023-01-19T14:00:18.738Z"
   },
   {
    "duration": 3,
    "start_time": "2023-01-19T14:00:19.600Z"
   },
   {
    "duration": 3,
    "start_time": "2023-01-19T14:00:20.719Z"
   },
   {
    "duration": 11,
    "start_time": "2023-01-19T14:00:21.398Z"
   },
   {
    "duration": 3,
    "start_time": "2023-01-19T14:02:59.978Z"
   },
   {
    "duration": 9,
    "start_time": "2023-01-19T14:03:00.683Z"
   },
   {
    "duration": 10,
    "start_time": "2023-01-19T14:03:31.940Z"
   },
   {
    "duration": 10,
    "start_time": "2023-01-19T14:03:32.438Z"
   },
   {
    "duration": 10,
    "start_time": "2023-01-19T14:03:33.139Z"
   },
   {
    "duration": 4,
    "start_time": "2023-01-19T14:05:49.642Z"
   },
   {
    "duration": 9,
    "start_time": "2023-01-19T14:05:50.239Z"
   },
   {
    "duration": 9,
    "start_time": "2023-01-19T14:05:51.142Z"
   },
   {
    "duration": 10,
    "start_time": "2023-01-19T14:05:51.894Z"
   },
   {
    "duration": 4,
    "start_time": "2023-01-19T14:06:53.031Z"
   },
   {
    "duration": 10,
    "start_time": "2023-01-19T14:06:53.499Z"
   },
   {
    "duration": 10,
    "start_time": "2023-01-19T14:06:54.270Z"
   },
   {
    "duration": 10,
    "start_time": "2023-01-19T14:06:55.036Z"
   },
   {
    "duration": 4,
    "start_time": "2023-01-19T14:07:05.912Z"
   },
   {
    "duration": 10,
    "start_time": "2023-01-19T14:07:06.638Z"
   },
   {
    "duration": 9,
    "start_time": "2023-01-19T14:07:07.434Z"
   },
   {
    "duration": 9,
    "start_time": "2023-01-19T14:07:07.995Z"
   },
   {
    "duration": 3,
    "start_time": "2023-01-19T14:09:37.859Z"
   },
   {
    "duration": 348,
    "start_time": "2023-01-19T14:09:39.103Z"
   },
   {
    "duration": 5,
    "start_time": "2023-01-19T14:09:40.007Z"
   },
   {
    "duration": 364,
    "start_time": "2023-01-19T14:09:40.786Z"
   },
   {
    "duration": 2,
    "start_time": "2023-01-19T14:09:43.638Z"
   },
   {
    "duration": 4,
    "start_time": "2023-01-19T14:09:43.811Z"
   },
   {
    "duration": 2,
    "start_time": "2023-01-19T14:09:43.980Z"
   },
   {
    "duration": 3,
    "start_time": "2023-01-19T14:09:44.159Z"
   },
   {
    "duration": 4,
    "start_time": "2023-01-19T14:09:44.309Z"
   },
   {
    "duration": 3,
    "start_time": "2023-01-19T14:09:44.535Z"
   },
   {
    "duration": 3,
    "start_time": "2023-01-19T14:09:45.232Z"
   },
   {
    "duration": 4,
    "start_time": "2023-01-19T14:09:56.742Z"
   },
   {
    "duration": 10,
    "start_time": "2023-01-19T14:09:57.330Z"
   },
   {
    "duration": 12,
    "start_time": "2023-01-19T14:09:58.133Z"
   },
   {
    "duration": 9,
    "start_time": "2023-01-19T14:09:59.036Z"
   },
   {
    "duration": 4,
    "start_time": "2023-01-19T14:10:14.132Z"
   },
   {
    "duration": 9,
    "start_time": "2023-01-19T14:10:14.760Z"
   },
   {
    "duration": 9,
    "start_time": "2023-01-19T14:10:16.367Z"
   },
   {
    "duration": 9,
    "start_time": "2023-01-19T14:10:17.098Z"
   },
   {
    "duration": 3,
    "start_time": "2023-01-19T14:10:24.803Z"
   },
   {
    "duration": 10,
    "start_time": "2023-01-19T14:10:25.381Z"
   },
   {
    "duration": 8,
    "start_time": "2023-01-19T14:10:26.164Z"
   },
   {
    "duration": 9,
    "start_time": "2023-01-19T14:10:27.060Z"
   },
   {
    "duration": 4,
    "start_time": "2023-01-19T14:12:11.843Z"
   },
   {
    "duration": 9,
    "start_time": "2023-01-19T14:12:12.438Z"
   },
   {
    "duration": 13,
    "start_time": "2023-01-19T14:12:13.397Z"
   },
   {
    "duration": 9,
    "start_time": "2023-01-19T14:12:14.199Z"
   },
   {
    "duration": 3,
    "start_time": "2023-01-19T14:14:09.635Z"
   },
   {
    "duration": 9,
    "start_time": "2023-01-19T14:14:10.239Z"
   },
   {
    "duration": 10,
    "start_time": "2023-01-19T14:14:11.338Z"
   },
   {
    "duration": 10,
    "start_time": "2023-01-19T14:14:12.282Z"
   },
   {
    "duration": 3,
    "start_time": "2023-01-19T14:14:52.237Z"
   },
   {
    "duration": 9,
    "start_time": "2023-01-19T14:14:53.334Z"
   },
   {
    "duration": 8,
    "start_time": "2023-01-19T14:14:54.108Z"
   },
   {
    "duration": 9,
    "start_time": "2023-01-19T14:14:54.969Z"
   },
   {
    "duration": 3,
    "start_time": "2023-01-19T14:15:41.176Z"
   },
   {
    "duration": 8,
    "start_time": "2023-01-19T14:15:41.733Z"
   },
   {
    "duration": 9,
    "start_time": "2023-01-19T14:15:42.474Z"
   },
   {
    "duration": 9,
    "start_time": "2023-01-19T14:15:43.085Z"
   },
   {
    "duration": 4,
    "start_time": "2023-01-19T14:15:59.635Z"
   },
   {
    "duration": 9,
    "start_time": "2023-01-19T14:16:00.234Z"
   },
   {
    "duration": 4,
    "start_time": "2023-01-19T14:16:04.598Z"
   },
   {
    "duration": 9,
    "start_time": "2023-01-19T14:16:05.246Z"
   },
   {
    "duration": 4,
    "start_time": "2023-01-19T14:16:18.800Z"
   },
   {
    "duration": 5,
    "start_time": "2023-01-19T14:16:28.840Z"
   },
   {
    "duration": 4,
    "start_time": "2023-01-19T14:16:56.360Z"
   },
   {
    "duration": 9,
    "start_time": "2023-01-19T14:16:59.307Z"
   },
   {
    "duration": 9,
    "start_time": "2023-01-19T14:17:00.033Z"
   },
   {
    "duration": 9,
    "start_time": "2023-01-19T14:17:00.694Z"
   },
   {
    "duration": 4,
    "start_time": "2023-01-19T14:17:07.146Z"
   },
   {
    "duration": 10,
    "start_time": "2023-01-19T14:17:07.690Z"
   },
   {
    "duration": 9,
    "start_time": "2023-01-19T14:17:08.363Z"
   },
   {
    "duration": 9,
    "start_time": "2023-01-19T14:17:09.028Z"
   },
   {
    "duration": 1606,
    "start_time": "2023-01-19T19:58:23.464Z"
   },
   {
    "duration": 859,
    "start_time": "2023-01-19T19:58:25.072Z"
   },
   {
    "duration": 3,
    "start_time": "2023-01-19T19:58:26.207Z"
   },
   {
    "duration": 3,
    "start_time": "2023-01-19T19:58:29.222Z"
   },
   {
    "duration": 7,
    "start_time": "2023-01-19T19:58:31.902Z"
   },
   {
    "duration": 1707,
    "start_time": "2023-01-19T19:58:32.973Z"
   },
   {
    "duration": 4,
    "start_time": "2023-01-19T19:58:42.004Z"
   },
   {
    "duration": 316,
    "start_time": "2023-01-19T19:58:42.886Z"
   },
   {
    "duration": 7,
    "start_time": "2023-01-19T19:58:44.357Z"
   },
   {
    "duration": 285,
    "start_time": "2023-01-19T19:58:46.117Z"
   },
   {
    "duration": 2,
    "start_time": "2023-01-19T19:58:57.424Z"
   },
   {
    "duration": 3,
    "start_time": "2023-01-19T19:58:58.014Z"
   },
   {
    "duration": 3,
    "start_time": "2023-01-19T19:58:58.559Z"
   },
   {
    "duration": 4,
    "start_time": "2023-01-19T19:58:59.133Z"
   },
   {
    "duration": 4,
    "start_time": "2023-01-19T19:58:59.710Z"
   },
   {
    "duration": 3,
    "start_time": "2023-01-19T19:59:00.382Z"
   },
   {
    "duration": 3,
    "start_time": "2023-01-19T19:59:01.231Z"
   },
   {
    "duration": 4,
    "start_time": "2023-01-19T19:59:02.944Z"
   },
   {
    "duration": 66,
    "start_time": "2023-01-19T19:59:04.848Z"
   },
   {
    "duration": 68,
    "start_time": "2023-01-19T20:01:06.911Z"
   },
   {
    "duration": 82,
    "start_time": "2023-01-19T20:01:14.032Z"
   },
   {
    "duration": 9,
    "start_time": "2023-01-19T20:01:20.877Z"
   },
   {
    "duration": 8,
    "start_time": "2023-01-19T20:02:24.576Z"
   },
   {
    "duration": 10,
    "start_time": "2023-01-19T20:02:44.044Z"
   },
   {
    "duration": 9,
    "start_time": "2023-01-19T20:03:13.744Z"
   },
   {
    "duration": 136,
    "start_time": "2023-01-19T20:33:48.053Z"
   },
   {
    "duration": 11,
    "start_time": "2023-01-19T20:34:15.718Z"
   },
   {
    "duration": 14,
    "start_time": "2023-01-19T20:34:33.198Z"
   },
   {
    "duration": 15,
    "start_time": "2023-01-19T20:34:42.027Z"
   },
   {
    "duration": 12,
    "start_time": "2023-01-19T20:34:55.771Z"
   },
   {
    "duration": 13,
    "start_time": "2023-01-19T20:35:05.249Z"
   },
   {
    "duration": 7,
    "start_time": "2023-01-19T20:36:15.833Z"
   },
   {
    "duration": 12,
    "start_time": "2023-01-19T20:36:41.327Z"
   },
   {
    "duration": 3,
    "start_time": "2023-01-19T20:37:29.676Z"
   },
   {
    "duration": 5,
    "start_time": "2023-01-19T20:37:42.186Z"
   },
   {
    "duration": 18,
    "start_time": "2023-01-19T20:37:42.761Z"
   },
   {
    "duration": 5,
    "start_time": "2023-01-19T20:37:58.585Z"
   },
   {
    "duration": 19,
    "start_time": "2023-01-19T20:37:59.094Z"
   },
   {
    "duration": 5,
    "start_time": "2023-01-19T20:38:40.954Z"
   },
   {
    "duration": 1297,
    "start_time": "2023-01-19T20:38:41.845Z"
   },
   {
    "duration": 8,
    "start_time": "2023-01-19T20:40:37.614Z"
   },
   {
    "duration": 1269,
    "start_time": "2023-01-19T20:40:38.826Z"
   },
   {
    "duration": 5,
    "start_time": "2023-01-19T20:40:48.627Z"
   },
   {
    "duration": 1359,
    "start_time": "2023-01-19T20:40:49.712Z"
   },
   {
    "duration": 5,
    "start_time": "2023-01-19T20:41:17.057Z"
   },
   {
    "duration": 1281,
    "start_time": "2023-01-19T20:41:17.335Z"
   },
   {
    "duration": 1448,
    "start_time": "2023-01-19T20:41:18.618Z"
   },
   {
    "duration": 75,
    "start_time": "2023-01-19T20:41:35.397Z"
   },
   {
    "duration": 1292,
    "start_time": "2023-01-19T20:41:36.008Z"
   },
   {
    "duration": 9,
    "start_time": "2023-01-19T20:41:44.865Z"
   },
   {
    "duration": 1237,
    "start_time": "2023-01-19T20:41:45.615Z"
   },
   {
    "duration": 6,
    "start_time": "2023-01-19T20:42:59.114Z"
   },
   {
    "duration": 1421,
    "start_time": "2023-01-19T20:42:59.734Z"
   },
   {
    "duration": 6,
    "start_time": "2023-01-19T20:43:43.171Z"
   },
   {
    "duration": 1408,
    "start_time": "2023-01-19T20:43:43.825Z"
   },
   {
    "duration": 1361,
    "start_time": "2023-01-19T20:44:08.764Z"
   },
   {
    "duration": 1307,
    "start_time": "2023-01-19T20:44:25.924Z"
   },
   {
    "duration": 4,
    "start_time": "2023-01-19T20:45:05.934Z"
   },
   {
    "duration": 396,
    "start_time": "2023-01-19T20:45:08.845Z"
   },
   {
    "duration": 4,
    "start_time": "2023-01-19T20:45:12.998Z"
   },
   {
    "duration": 11,
    "start_time": "2023-01-19T20:45:14.050Z"
   },
   {
    "duration": 7,
    "start_time": "2023-01-19T20:45:16.805Z"
   },
   {
    "duration": 1663,
    "start_time": "2023-01-19T20:45:18.794Z"
   },
   {
    "duration": 4,
    "start_time": "2023-01-19T21:12:36.717Z"
   },
   {
    "duration": 159,
    "start_time": "2023-01-19T21:12:37.845Z"
   },
   {
    "duration": 5,
    "start_time": "2023-01-19T21:13:30.744Z"
   },
   {
    "duration": 278,
    "start_time": "2023-01-19T21:13:31.540Z"
   },
   {
    "duration": 5,
    "start_time": "2023-01-19T21:16:42.208Z"
   },
   {
    "duration": 197,
    "start_time": "2023-01-19T21:16:43.021Z"
   },
   {
    "duration": 5,
    "start_time": "2023-01-19T21:17:04.837Z"
   },
   {
    "duration": 325,
    "start_time": "2023-01-19T21:17:05.477Z"
   },
   {
    "duration": 2,
    "start_time": "2023-01-19T21:24:44.272Z"
   },
   {
    "duration": 3,
    "start_time": "2023-01-19T21:24:46.961Z"
   },
   {
    "duration": 3,
    "start_time": "2023-01-19T21:25:51.314Z"
   },
   {
    "duration": 3,
    "start_time": "2023-01-19T21:25:51.984Z"
   },
   {
    "duration": 3,
    "start_time": "2023-01-19T21:25:52.686Z"
   },
   {
    "duration": 3,
    "start_time": "2023-01-19T21:26:17.458Z"
   },
   {
    "duration": 3,
    "start_time": "2023-01-19T21:26:18.191Z"
   },
   {
    "duration": 3,
    "start_time": "2023-01-19T21:26:35.553Z"
   },
   {
    "duration": 4,
    "start_time": "2023-01-19T21:26:37.261Z"
   },
   {
    "duration": 4,
    "start_time": "2023-01-19T21:26:58.078Z"
   },
   {
    "duration": 8,
    "start_time": "2023-01-19T21:26:58.763Z"
   },
   {
    "duration": 4,
    "start_time": "2023-01-19T21:29:53.834Z"
   },
   {
    "duration": 9,
    "start_time": "2023-01-19T21:29:57.048Z"
   },
   {
    "duration": 8,
    "start_time": "2023-01-19T21:30:03.008Z"
   },
   {
    "duration": 8,
    "start_time": "2023-01-19T21:30:03.788Z"
   },
   {
    "duration": 22,
    "start_time": "2023-01-19T21:30:29.500Z"
   },
   {
    "duration": 6,
    "start_time": "2023-01-19T21:41:34.739Z"
   },
   {
    "duration": 1435,
    "start_time": "2023-01-19T21:41:35.843Z"
   },
   {
    "duration": 5,
    "start_time": "2023-01-19T21:41:48.316Z"
   },
   {
    "duration": 1338,
    "start_time": "2023-01-19T21:41:48.955Z"
   },
   {
    "duration": 8,
    "start_time": "2023-01-19T21:41:57.176Z"
   },
   {
    "duration": 1316,
    "start_time": "2023-01-19T21:41:57.652Z"
   },
   {
    "duration": 3,
    "start_time": "2023-01-19T21:44:44.897Z"
   },
   {
    "duration": 86,
    "start_time": "2023-01-19T21:45:00.317Z"
   },
   {
    "duration": 11,
    "start_time": "2023-01-19T21:45:14.460Z"
   },
   {
    "duration": 3,
    "start_time": "2023-01-19T21:45:26.793Z"
   },
   {
    "duration": 8,
    "start_time": "2023-01-19T21:45:37.479Z"
   },
   {
    "duration": 10,
    "start_time": "2023-01-19T21:48:48.050Z"
   },
   {
    "duration": 3,
    "start_time": "2023-01-19T21:48:50.755Z"
   },
   {
    "duration": 11,
    "start_time": "2023-01-19T21:48:51.219Z"
   },
   {
    "duration": 9,
    "start_time": "2023-01-19T21:49:11.394Z"
   },
   {
    "duration": 1405,
    "start_time": "2023-01-19T21:49:11.919Z"
   },
   {
    "duration": 1607,
    "start_time": "2023-01-19T21:49:13.327Z"
   },
   {
    "duration": 1405,
    "start_time": "2023-01-19T21:49:16.688Z"
   },
   {
    "duration": 1326,
    "start_time": "2023-01-19T21:50:39.297Z"
   },
   {
    "duration": 1276,
    "start_time": "2023-01-19T21:50:48.672Z"
   },
   {
    "duration": 1500,
    "start_time": "2023-01-19T21:51:03.792Z"
   },
   {
    "duration": 1338,
    "start_time": "2023-01-19T21:51:51.920Z"
   },
   {
    "duration": 1465,
    "start_time": "2023-01-19T21:52:20.171Z"
   },
   {
    "duration": 1367,
    "start_time": "2023-01-19T21:52:22.268Z"
   },
   {
    "duration": 3,
    "start_time": "2023-01-19T22:35:57.180Z"
   },
   {
    "duration": 354,
    "start_time": "2023-01-19T22:35:58.715Z"
   },
   {
    "duration": 3,
    "start_time": "2023-01-19T22:35:59.850Z"
   },
   {
    "duration": 5,
    "start_time": "2023-01-19T22:36:00.699Z"
   },
   {
    "duration": 4,
    "start_time": "2023-01-19T22:36:01.722Z"
   },
   {
    "duration": 1851,
    "start_time": "2023-01-19T22:36:03.323Z"
   },
   {
    "duration": 4,
    "start_time": "2023-01-19T22:36:12.080Z"
   },
   {
    "duration": 247,
    "start_time": "2023-01-19T22:36:14.050Z"
   },
   {
    "duration": 4,
    "start_time": "2023-01-19T22:36:23.345Z"
   },
   {
    "duration": 255,
    "start_time": "2023-01-19T22:36:24.347Z"
   },
   {
    "duration": 3,
    "start_time": "2023-01-19T22:36:48.599Z"
   },
   {
    "duration": 3,
    "start_time": "2023-01-19T22:36:49.334Z"
   },
   {
    "duration": 3,
    "start_time": "2023-01-19T22:36:50.104Z"
   },
   {
    "duration": 3,
    "start_time": "2023-01-19T22:36:50.857Z"
   },
   {
    "duration": 4,
    "start_time": "2023-01-19T22:36:51.609Z"
   },
   {
    "duration": 3,
    "start_time": "2023-01-19T22:36:54.455Z"
   },
   {
    "duration": 4,
    "start_time": "2023-01-19T22:36:55.209Z"
   },
   {
    "duration": 6,
    "start_time": "2023-01-19T22:37:00.669Z"
   },
   {
    "duration": 18,
    "start_time": "2023-01-19T22:37:02.190Z"
   },
   {
    "duration": 6,
    "start_time": "2023-01-19T22:37:28.599Z"
   },
   {
    "duration": 1209,
    "start_time": "2023-01-19T22:37:30.134Z"
   },
   {
    "duration": 1307,
    "start_time": "2023-01-19T22:37:33.076Z"
   },
   {
    "duration": 1216,
    "start_time": "2023-01-19T22:37:34.513Z"
   },
   {
    "duration": 6513,
    "start_time": "2023-01-20T08:28:53.455Z"
   },
   {
    "duration": 401,
    "start_time": "2023-01-20T08:28:59.970Z"
   },
   {
    "duration": 3,
    "start_time": "2023-01-20T08:29:00.372Z"
   },
   {
    "duration": 23,
    "start_time": "2023-01-20T08:29:00.377Z"
   },
   {
    "duration": 28,
    "start_time": "2023-01-20T08:29:00.402Z"
   },
   {
    "duration": 1880,
    "start_time": "2023-01-20T08:29:00.432Z"
   },
   {
    "duration": 4,
    "start_time": "2023-01-20T08:29:02.314Z"
   },
   {
    "duration": 321,
    "start_time": "2023-01-20T08:29:02.320Z"
   },
   {
    "duration": 97,
    "start_time": "2023-01-20T08:29:02.643Z"
   },
   {
    "duration": 499,
    "start_time": "2023-01-20T08:29:02.742Z"
   },
   {
    "duration": 91,
    "start_time": "2023-01-20T08:29:03.244Z"
   },
   {
    "duration": 100,
    "start_time": "2023-01-20T08:29:03.338Z"
   },
   {
    "duration": 13,
    "start_time": "2023-01-20T08:29:03.440Z"
   },
   {
    "duration": 14,
    "start_time": "2023-01-20T08:29:03.455Z"
   },
   {
    "duration": 10,
    "start_time": "2023-01-20T08:29:03.471Z"
   },
   {
    "duration": 11,
    "start_time": "2023-01-20T08:29:03.483Z"
   },
   {
    "duration": 12,
    "start_time": "2023-01-20T08:29:03.496Z"
   },
   {
    "duration": 10,
    "start_time": "2023-01-20T08:29:03.510Z"
   },
   {
    "duration": 22,
    "start_time": "2023-01-20T08:29:03.522Z"
   },
   {
    "duration": 6,
    "start_time": "2023-01-20T08:29:03.546Z"
   },
   {
    "duration": 1406,
    "start_time": "2023-01-20T08:29:03.554Z"
   },
   {
    "duration": 1380,
    "start_time": "2023-01-20T08:29:04.962Z"
   },
   {
    "duration": 1370,
    "start_time": "2023-01-20T08:29:06.344Z"
   },
   {
    "duration": 57,
    "start_time": "2023-01-22T10:16:16.011Z"
   },
   {
    "duration": 3019,
    "start_time": "2023-01-22T11:46:40.881Z"
   },
   {
    "duration": 943,
    "start_time": "2023-01-22T11:46:43.903Z"
   },
   {
    "duration": 2,
    "start_time": "2023-01-22T11:46:44.848Z"
   },
   {
    "duration": 5,
    "start_time": "2023-01-22T11:46:44.852Z"
   },
   {
    "duration": 4,
    "start_time": "2023-01-22T11:46:44.859Z"
   },
   {
    "duration": 1749,
    "start_time": "2023-01-22T11:46:44.864Z"
   },
   {
    "duration": 3,
    "start_time": "2023-01-22T11:46:46.615Z"
   },
   {
    "duration": 282,
    "start_time": "2023-01-22T11:46:46.619Z"
   },
   {
    "duration": 347,
    "start_time": "2023-01-22T11:46:53.654Z"
   }
  ],
  "kernelspec": {
   "display_name": "Python 3 (ipykernel)",
   "language": "python",
   "name": "python3"
  },
  "language_info": {
   "codemirror_mode": {
    "name": "ipython",
    "version": 3
   },
   "file_extension": ".py",
   "mimetype": "text/x-python",
   "name": "python",
   "nbconvert_exporter": "python",
   "pygments_lexer": "ipython3",
   "version": "3.9.12"
  },
  "toc": {
   "base_numbering": 1,
   "nav_menu": {},
   "number_sections": true,
   "sideBar": true,
   "skip_h1_title": true,
   "title_cell": "Table of Contents",
   "title_sidebar": "Contents",
   "toc_cell": false,
   "toc_position": {},
   "toc_section_display": true,
   "toc_window_display": false
  }
 },
 "nbformat": 4,
 "nbformat_minor": 2
}
